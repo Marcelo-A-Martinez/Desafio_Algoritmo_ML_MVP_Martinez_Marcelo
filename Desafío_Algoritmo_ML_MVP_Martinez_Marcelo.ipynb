{
  "cells": [
    {
      "cell_type": "markdown",
      "id": "5c36909f",
      "metadata": {
        "id": "5c36909f"
      },
      "source": [
        "# **CURSO: DATA SCIENCE - CODERHOUSE**\n",
        "### **DATASET:** CLÍNICA\n",
        "### **AUTOR:** MARCELO ADRIÁN MARTINEZ  "
      ]
    },
    {
      "cell_type": "markdown",
      "id": "bf733f4f",
      "metadata": {
        "id": "bf733f4f"
      },
      "source": [
        "#### **ABSTRACTO**\n",
        "El presente informe está destinado a los responsables de la gestión de la Clínica Tiempo la cual cuenta con una larga trayectoria en la ciudad, siendo la más prestigiosa de la región.\n",
        "Ante la situación de la limitación de recursos con los que cuenta la clínica y con el fin de prever una compra de insumos y otros elementos de trabajo, los ejecutivos están buscando conocer cuál será la duración de la estancia de los pacientes en el clínica.\n",
        "Para ello, el director de la clínica nos facilita este dataset con datos recopilados sobre distintas cuestiones de los pacientes que han estado en la clínica. \n",
        "Los campos del dataset se refieren a distintos aspectos registrados de cada paciente.\n",
        "En base a ello y a las necesidades de información de los directivos, se realizará un modelo predictivo con el fin de establecer la duración de la estancia de los pacientes en la Clínica."
      ]
    },
    {
      "cell_type": "markdown",
      "id": "c75f7047",
      "metadata": {
        "id": "c75f7047"
      },
      "source": [
        "#### **OBJETIVOS**\n",
        "* Establecer la cantidad de pacientes que se recibirán el siguiente año.\n",
        "* Determinar los factores inciden en mayor medida en la duración de la estancia de los pacientes en la\n",
        "clínica.\n",
        "* Analizar la asignación de recursos en pos de ofrecer un excelente servicio.\n",
        "* Identificar caracteristicas que permitan agrupar a los pacientes según sus necesidades."
      ]
    },
    {
      "cell_type": "markdown",
      "id": "24b660ee",
      "metadata": {
        "id": "24b660ee"
      },
      "source": [
        "#### **CONTEXTO COMERCIAL**\n",
        "La Clínica tiene una amplia trayectoria en la ciudad, brindando servicios de excelencia a sus miles de\n",
        "pacientes que año tras año llegan a la misma. Esto la ha posicionado entre los demás centros de salud de\n",
        "la zona, tanto por su prestaciones de excelencia como también su constante inversión en equipos de alta \n",
        "tecnología.\n",
        "La Clínica ofrece distintos servicios, entre ellos están los de internación por diversas cuestiones de \n",
        "salud.\n",
        "En el último año la clínica tuvo 100.000 internaciones y la duración de dichas internaciones van\n",
        "de 1 (uno) a 17 (diecisiete) días."
      ]
    },
    {
      "cell_type": "markdown",
      "id": "07a3a3ed",
      "metadata": {
        "id": "07a3a3ed"
      },
      "source": [
        "#### **PROBLEMA COMERCIAL**\n",
        "En base a lo mencionado en los apartados anteriores el director de la Clínica, en pos de seguir ofreciendo \n",
        "a sus pacientes la mejor atención, quiere determinar la cantidad y la duración de las estancias de los \n",
        "pacientes con el fin de realizar una óptima asignación de los recursos con los que cuenta la Clínica.\n",
        "\n",
        "#### **PREGUNTAS**\n",
        "    * ¿Cuántos días van a durar las estancias de los pacientes en la clínica?\n",
        "    * ¿Cuál es la duración máxima de la estancia? ¿Y la mínima?\n",
        "    * ¿Qué factores inciden en mayor medida en la duración de la estancia?\n",
        "    * ¿Cuál será la cantidad de pacientes admitidos?\n",
        "    * ¿Existe alguna relación entre el género del paciente y la duración de la estancia?\n",
        "#### **HIPÓTESIS**\n",
        "    - El género del paciente incide en la duración de la estancia del mismo en la clínica."
      ]
    },
    {
      "cell_type": "markdown",
      "id": "8cfe7021",
      "metadata": {
        "id": "8cfe7021"
      },
      "source": [
        "#### **CONTEXTO ANALÍTICO**\n",
        "Para cumplir con los objetivos planteados y dar solución a la problemática, el director de la clínica nos facilita este dataset con datos recopilados sobre distintas cuestiones de los pacientes que han estado en la clínica. El mismo está estructurado en 28 columnas y 100.000 filas. \n",
        "Los campos del dataset se refieren a distintos aspectos registrados de cada paciente, entre las variables están: \n",
        "*   ID Admisión: un identificador por cada admisión de un paciente que se da en el hospital.\n",
        "*   FechaVisita: la fecha en la que se produjo la visita del paciente.\n",
        "*   NumReadmisiones: el número de readmisiones que se han dado. \n",
        "*   Género: 1 para mujeres y 0 para hombres.\n",
        "*   Renal: si tiene algún síntoma o problema de índole renal.\n",
        "*   Asma: si tiene algún síntoma o problema de asma.\n",
        "*   FaltaHierro: si tiene algún problema de falta de hierro o no.\n",
        "*   Neumonia: si tiene algún problema de neumonía o no.\n",
        "*   DependenciaSustancias: si tiene algún problema de dependencia de sustancias o no.\n",
        "*   DesordenPsicologico: si tiene algún problema de desórdenes psicológicos o no.\n",
        "*   Depresion: si tiene algún problema de depresión o no.\n",
        "*   OtrosDesordenesPsiquicos: si tiene algún problema de otros desórdenes psíquicos o no.\n",
        "*   Fibrosis: si tiene algún problema de fibrosis o no.\n",
        "*   Malnutricion: si tiene algún problema de malnutrición o no.\n",
        "*   DesordenSangre: si tiene algún problema de desorden en sangre o no.\n",
        "*   Sodio: si tiene algún síntoma o problema de sodio.\n",
        "*   Hematocrito: si tiene algún síntoma o problema de hematocrito.\n",
        "*   Neutrofilos: si tiene algún síntoma o problema de neutrófilos.\n",
        "*   Glucosa: si tiene algún síntoma o problema de glucosa.\n",
        "*   UreaSangre: si tiene algún síntoma o problema de urea en sangre.\n",
        "*   Creatinina: si tiene algún síntoma o problema de creatinina.\n",
        "*   BMI: el índice de masa corporal del paciente.\n",
        "*   Pulso: pulsaciones del paciente por minuto.\n",
        "*   Respiracion: la respiración del paciente cada 30 segundos.\n",
        "*   DiagnosticoSecundario: cuál es el diagnóstico secundario del paciente.\n",
        "*   FechaAlta: la fecha en la que se le ha dado de alta al paciente.\n",
        "*   IDHospital: el identificar de la sede del hospital donde ha sido ingresado.\n",
        "*   DuracionEstancia: los días que duró la estancia del paciente en la clínica."
      ]
    },
    {
      "cell_type": "markdown",
      "id": "7c686d6a",
      "metadata": {
        "id": "7c686d6a"
      },
      "source": [
        "## **IMPORTACIÓN DE LOS PAQUETES**"
      ]
    },
    {
      "cell_type": "code",
      "execution_count": null,
      "id": "fc28de78",
      "metadata": {
        "id": "fc28de78"
      },
      "outputs": [],
      "source": [
        "import matplotlib as mpl\n",
        "import matplotlib.pyplot as plt\n",
        "import seaborn as sns\n",
        "import numpy as np\n",
        "import pandas as pd\n",
        "from google.colab import files\n",
        "from PIL  import Image\n",
        "import requests\n",
        "import missingno as msno \n",
        "import json\n",
        "from sklearn.model_selection import train_test_split\n",
        "from sklearn.preprocessing import StandardScaler\n",
        "from sklearn.model_selection import cross_val_score\n",
        "from sklearn.model_selection import cross_validate\n",
        "from sklearn.tree import DecisionTreeRegressor\n",
        "from sklearn import tree\n",
        "from sklearn.tree import plot_tree\n",
        "from sklearn.tree import export_graphviz\n",
        "from sklearn.tree import export_text\n",
        "from sklearn.model_selection import GridSearchCV\n",
        "from sklearn.metrics import mean_squared_error\n",
        "from sklearn.metrics import accuracy_score\n",
        "from sklearn import metrics\n",
        "from sklearn.metrics import mean_absolute_error as MAE\n",
        "from sklearn.metrics import r2_score\n",
        "from sklearn import svm\n",
        "from sklearn.neighbors import KNeighborsRegressor\n",
        "from sklearn.ensemble import RandomForestClassifier\n",
        "from sklearn.ensemble import RandomForestRegressor"
      ]
    },
    {
      "cell_type": "markdown",
      "id": "497703eb",
      "metadata": {
        "id": "497703eb"
      },
      "source": [
        "## **CARGA DEL DATASET \"CLINICA\"**"
      ]
    },
    {
      "cell_type": "code",
      "execution_count": null,
      "id": "5ff4f1c4",
      "metadata": {
        "colab": {
          "base_uri": "https://localhost:8080/",
          "height": 299
        },
        "id": "5ff4f1c4",
        "outputId": "20bb1cd2-fd55-42ea-a1f2-fb5f1476826e"
      },
      "outputs": [
        {
          "output_type": "execute_result",
          "data": {
            "text/plain": [
              "   idAdmision fechavisita  numReadmisiones  genero  renal  asma  faltaHierro  \\\n",
              "0           1   8/29/2012              0.0       1      0     0            0   \n",
              "1           2   5/26/2012              NaN       1      0     0            0   \n",
              "2           3   9/22/2012              1.0       1      0     0            0   \n",
              "3           4    8/9/2012              0.0       1      0     0            0   \n",
              "4           5  12/20/2012              0.0       1      0     0            0   \n",
              "\n",
              "   pneumonia  dependenciaSustancias  desordenPsicologico  ...     glucosa  \\\n",
              "0          0                      0                    0  ...  1924769177   \n",
              "1          0                      0                    0  ...  9407850731   \n",
              "2          0                      0                    0  ...  1305305238   \n",
              "3          0                      0                    0  ...  1633770276   \n",
              "4          1                      0                    1  ...  9488665408   \n",
              "\n",
              "   ureaSangre  creatinina         bmi  pulso  respiracion  \\\n",
              "0          12  1390722238  3043241778     96           65   \n",
              "1           8   943164319  2846051612     61           65   \n",
              "2          12  1065750282  2884381191     64           65   \n",
              "3          12    90686182  2795900732     76           65   \n",
              "4         115  1242854164  3025892703     67           56   \n",
              "\n",
              "   diagnosticoSecundario   fechaAlta  idHospital  duracionEstancia  \n",
              "0                      4    9/1/2012           B                 3  \n",
              "1                      1    6/2/2012           A                 7  \n",
              "2                      2   9/25/2012           B                 3  \n",
              "3                      1   8/10/2012           A                 1  \n",
              "4                      2  12/24/2012           E                 4  \n",
              "\n",
              "[5 rows x 28 columns]"
            ],
            "text/html": [
              "\n",
              "  <div id=\"df-8c8f48c2-ef14-42c8-b0a1-bf6cab6f679b\">\n",
              "    <div class=\"colab-df-container\">\n",
              "      <div>\n",
              "<style scoped>\n",
              "    .dataframe tbody tr th:only-of-type {\n",
              "        vertical-align: middle;\n",
              "    }\n",
              "\n",
              "    .dataframe tbody tr th {\n",
              "        vertical-align: top;\n",
              "    }\n",
              "\n",
              "    .dataframe thead th {\n",
              "        text-align: right;\n",
              "    }\n",
              "</style>\n",
              "<table border=\"1\" class=\"dataframe\">\n",
              "  <thead>\n",
              "    <tr style=\"text-align: right;\">\n",
              "      <th></th>\n",
              "      <th>idAdmision</th>\n",
              "      <th>fechavisita</th>\n",
              "      <th>numReadmisiones</th>\n",
              "      <th>genero</th>\n",
              "      <th>renal</th>\n",
              "      <th>asma</th>\n",
              "      <th>faltaHierro</th>\n",
              "      <th>pneumonia</th>\n",
              "      <th>dependenciaSustancias</th>\n",
              "      <th>desordenPsicologico</th>\n",
              "      <th>...</th>\n",
              "      <th>glucosa</th>\n",
              "      <th>ureaSangre</th>\n",
              "      <th>creatinina</th>\n",
              "      <th>bmi</th>\n",
              "      <th>pulso</th>\n",
              "      <th>respiracion</th>\n",
              "      <th>diagnosticoSecundario</th>\n",
              "      <th>fechaAlta</th>\n",
              "      <th>idHospital</th>\n",
              "      <th>duracionEstancia</th>\n",
              "    </tr>\n",
              "  </thead>\n",
              "  <tbody>\n",
              "    <tr>\n",
              "      <th>0</th>\n",
              "      <td>1</td>\n",
              "      <td>8/29/2012</td>\n",
              "      <td>0.0</td>\n",
              "      <td>1</td>\n",
              "      <td>0</td>\n",
              "      <td>0</td>\n",
              "      <td>0</td>\n",
              "      <td>0</td>\n",
              "      <td>0</td>\n",
              "      <td>0</td>\n",
              "      <td>...</td>\n",
              "      <td>1924769177</td>\n",
              "      <td>12</td>\n",
              "      <td>1390722238</td>\n",
              "      <td>3043241778</td>\n",
              "      <td>96</td>\n",
              "      <td>65</td>\n",
              "      <td>4</td>\n",
              "      <td>9/1/2012</td>\n",
              "      <td>B</td>\n",
              "      <td>3</td>\n",
              "    </tr>\n",
              "    <tr>\n",
              "      <th>1</th>\n",
              "      <td>2</td>\n",
              "      <td>5/26/2012</td>\n",
              "      <td>NaN</td>\n",
              "      <td>1</td>\n",
              "      <td>0</td>\n",
              "      <td>0</td>\n",
              "      <td>0</td>\n",
              "      <td>0</td>\n",
              "      <td>0</td>\n",
              "      <td>0</td>\n",
              "      <td>...</td>\n",
              "      <td>9407850731</td>\n",
              "      <td>8</td>\n",
              "      <td>943164319</td>\n",
              "      <td>2846051612</td>\n",
              "      <td>61</td>\n",
              "      <td>65</td>\n",
              "      <td>1</td>\n",
              "      <td>6/2/2012</td>\n",
              "      <td>A</td>\n",
              "      <td>7</td>\n",
              "    </tr>\n",
              "    <tr>\n",
              "      <th>2</th>\n",
              "      <td>3</td>\n",
              "      <td>9/22/2012</td>\n",
              "      <td>1.0</td>\n",
              "      <td>1</td>\n",
              "      <td>0</td>\n",
              "      <td>0</td>\n",
              "      <td>0</td>\n",
              "      <td>0</td>\n",
              "      <td>0</td>\n",
              "      <td>0</td>\n",
              "      <td>...</td>\n",
              "      <td>1305305238</td>\n",
              "      <td>12</td>\n",
              "      <td>1065750282</td>\n",
              "      <td>2884381191</td>\n",
              "      <td>64</td>\n",
              "      <td>65</td>\n",
              "      <td>2</td>\n",
              "      <td>9/25/2012</td>\n",
              "      <td>B</td>\n",
              "      <td>3</td>\n",
              "    </tr>\n",
              "    <tr>\n",
              "      <th>3</th>\n",
              "      <td>4</td>\n",
              "      <td>8/9/2012</td>\n",
              "      <td>0.0</td>\n",
              "      <td>1</td>\n",
              "      <td>0</td>\n",
              "      <td>0</td>\n",
              "      <td>0</td>\n",
              "      <td>0</td>\n",
              "      <td>0</td>\n",
              "      <td>0</td>\n",
              "      <td>...</td>\n",
              "      <td>1633770276</td>\n",
              "      <td>12</td>\n",
              "      <td>90686182</td>\n",
              "      <td>2795900732</td>\n",
              "      <td>76</td>\n",
              "      <td>65</td>\n",
              "      <td>1</td>\n",
              "      <td>8/10/2012</td>\n",
              "      <td>A</td>\n",
              "      <td>1</td>\n",
              "    </tr>\n",
              "    <tr>\n",
              "      <th>4</th>\n",
              "      <td>5</td>\n",
              "      <td>12/20/2012</td>\n",
              "      <td>0.0</td>\n",
              "      <td>1</td>\n",
              "      <td>0</td>\n",
              "      <td>0</td>\n",
              "      <td>0</td>\n",
              "      <td>1</td>\n",
              "      <td>0</td>\n",
              "      <td>1</td>\n",
              "      <td>...</td>\n",
              "      <td>9488665408</td>\n",
              "      <td>115</td>\n",
              "      <td>1242854164</td>\n",
              "      <td>3025892703</td>\n",
              "      <td>67</td>\n",
              "      <td>56</td>\n",
              "      <td>2</td>\n",
              "      <td>12/24/2012</td>\n",
              "      <td>E</td>\n",
              "      <td>4</td>\n",
              "    </tr>\n",
              "  </tbody>\n",
              "</table>\n",
              "<p>5 rows × 28 columns</p>\n",
              "</div>\n",
              "      <button class=\"colab-df-convert\" onclick=\"convertToInteractive('df-8c8f48c2-ef14-42c8-b0a1-bf6cab6f679b')\"\n",
              "              title=\"Convert this dataframe to an interactive table.\"\n",
              "              style=\"display:none;\">\n",
              "        \n",
              "  <svg xmlns=\"http://www.w3.org/2000/svg\" height=\"24px\"viewBox=\"0 0 24 24\"\n",
              "       width=\"24px\">\n",
              "    <path d=\"M0 0h24v24H0V0z\" fill=\"none\"/>\n",
              "    <path d=\"M18.56 5.44l.94 2.06.94-2.06 2.06-.94-2.06-.94-.94-2.06-.94 2.06-2.06.94zm-11 1L8.5 8.5l.94-2.06 2.06-.94-2.06-.94L8.5 2.5l-.94 2.06-2.06.94zm10 10l.94 2.06.94-2.06 2.06-.94-2.06-.94-.94-2.06-.94 2.06-2.06.94z\"/><path d=\"M17.41 7.96l-1.37-1.37c-.4-.4-.92-.59-1.43-.59-.52 0-1.04.2-1.43.59L10.3 9.45l-7.72 7.72c-.78.78-.78 2.05 0 2.83L4 21.41c.39.39.9.59 1.41.59.51 0 1.02-.2 1.41-.59l7.78-7.78 2.81-2.81c.8-.78.8-2.07 0-2.86zM5.41 20L4 18.59l7.72-7.72 1.47 1.35L5.41 20z\"/>\n",
              "  </svg>\n",
              "      </button>\n",
              "      \n",
              "  <style>\n",
              "    .colab-df-container {\n",
              "      display:flex;\n",
              "      flex-wrap:wrap;\n",
              "      gap: 12px;\n",
              "    }\n",
              "\n",
              "    .colab-df-convert {\n",
              "      background-color: #E8F0FE;\n",
              "      border: none;\n",
              "      border-radius: 50%;\n",
              "      cursor: pointer;\n",
              "      display: none;\n",
              "      fill: #1967D2;\n",
              "      height: 32px;\n",
              "      padding: 0 0 0 0;\n",
              "      width: 32px;\n",
              "    }\n",
              "\n",
              "    .colab-df-convert:hover {\n",
              "      background-color: #E2EBFA;\n",
              "      box-shadow: 0px 1px 2px rgba(60, 64, 67, 0.3), 0px 1px 3px 1px rgba(60, 64, 67, 0.15);\n",
              "      fill: #174EA6;\n",
              "    }\n",
              "\n",
              "    [theme=dark] .colab-df-convert {\n",
              "      background-color: #3B4455;\n",
              "      fill: #D2E3FC;\n",
              "    }\n",
              "\n",
              "    [theme=dark] .colab-df-convert:hover {\n",
              "      background-color: #434B5C;\n",
              "      box-shadow: 0px 1px 3px 1px rgba(0, 0, 0, 0.15);\n",
              "      filter: drop-shadow(0px 1px 2px rgba(0, 0, 0, 0.3));\n",
              "      fill: #FFFFFF;\n",
              "    }\n",
              "  </style>\n",
              "\n",
              "      <script>\n",
              "        const buttonEl =\n",
              "          document.querySelector('#df-8c8f48c2-ef14-42c8-b0a1-bf6cab6f679b button.colab-df-convert');\n",
              "        buttonEl.style.display =\n",
              "          google.colab.kernel.accessAllowed ? 'block' : 'none';\n",
              "\n",
              "        async function convertToInteractive(key) {\n",
              "          const element = document.querySelector('#df-8c8f48c2-ef14-42c8-b0a1-bf6cab6f679b');\n",
              "          const dataTable =\n",
              "            await google.colab.kernel.invokeFunction('convertToInteractive',\n",
              "                                                     [key], {});\n",
              "          if (!dataTable) return;\n",
              "\n",
              "          const docLinkHtml = 'Like what you see? Visit the ' +\n",
              "            '<a target=\"_blank\" href=https://colab.research.google.com/notebooks/data_table.ipynb>data table notebook</a>'\n",
              "            + ' to learn more about interactive tables.';\n",
              "          element.innerHTML = '';\n",
              "          dataTable['output_type'] = 'display_data';\n",
              "          await google.colab.output.renderOutput(dataTable, element);\n",
              "          const docLink = document.createElement('div');\n",
              "          docLink.innerHTML = docLinkHtml;\n",
              "          element.appendChild(docLink);\n",
              "        }\n",
              "      </script>\n",
              "    </div>\n",
              "  </div>\n",
              "  "
            ]
          },
          "metadata": {},
          "execution_count": 3
        }
      ],
      "source": [
        "from posixpath import sep\n",
        "url= \"https://docs.google.com/spreadsheets/d/e/2PACX-1vS6CuecKw371VJduqQJuJdTTTnA0dOy-_pBcKbYXTDRipskXx7EYQ5sI5uPQgheEg/pub?gid=2076843467&single=true&output=csv\"\n",
        "Clinica1= pd.read_csv(url, sep=',', header=0)\n",
        "Clinica1.head()"
      ]
    },
    {
      "cell_type": "code",
      "execution_count": null,
      "id": "a4fe0cca",
      "metadata": {
        "id": "a4fe0cca"
      },
      "outputs": [],
      "source": [
        "# Se renombran variables, para su mejor comprensión\n",
        "\n",
        "Clinica1 = Clinica1.rename(columns={'fechavisita':'fechaVisita' , 'numReadmisiones':'numReadmisiones' , \n",
        "                                  'pneumonia':'neumonia'})"
      ]
    },
    {
      "cell_type": "code",
      "execution_count": null,
      "id": "9aefcfee",
      "metadata": {
        "colab": {
          "base_uri": "https://localhost:8080/"
        },
        "id": "9aefcfee",
        "outputId": "8ee2989d-682a-452f-ff31-2f9822c80e9a"
      },
      "outputs": [
        {
          "output_type": "execute_result",
          "data": {
            "text/plain": [
              "idAdmision                     0\n",
              "fechaVisita                    0\n",
              "numReadmisiones             4987\n",
              "genero                         0\n",
              "renal                          0\n",
              "asma                           0\n",
              "faltaHierro                    0\n",
              "neumonia                       0\n",
              "dependenciaSustancias          0\n",
              "desordenPsicologico            0\n",
              "depresion                      0\n",
              "otrosDesordenesPsiquicos       0\n",
              "fibrosis                       0\n",
              "malnutricion                   0\n",
              "desordenSangre                 0\n",
              "hematocrito                    0\n",
              "neutrofilos                    0\n",
              "sodio                          0\n",
              "glucosa                        0\n",
              "ureaSangre                     0\n",
              "creatinina                     0\n",
              "bmi                            0\n",
              "pulso                          0\n",
              "respiracion                    0\n",
              "diagnosticoSecundario          0\n",
              "fechaAlta                      0\n",
              "idHospital                     0\n",
              "duracionEstancia               0\n",
              "dtype: int64"
            ]
          },
          "metadata": {},
          "execution_count": 5
        }
      ],
      "source": [
        "# Se evalúa la existencia de valores nulos para su posterior eliminación\n",
        "\n",
        "Clinica1.isna().sum()"
      ]
    },
    {
      "cell_type": "markdown",
      "id": "1b6a5180",
      "metadata": {
        "id": "1b6a5180"
      },
      "source": [
        "Como se puede apreciar, la variable 'NumReadmisiones' presenta 4.987 valores nulos, por ello se procede a eliminar las filas que contienen dichos valores.\n",
        "Además, se eliminan otras variables, dejando de esta manera solo aquellas que interesan para contruir el modelo de ML."
      ]
    },
    {
      "cell_type": "code",
      "execution_count": null,
      "id": "df23ec9f",
      "metadata": {
        "id": "df23ec9f"
      },
      "outputs": [],
      "source": [
        "Clinica=Clinica1.dropna()\n",
        "Clinica= Clinica.drop(['idAdmision','fechaVisita', 'fechaAlta', 'idHospital' , 'numReadmisiones', 'asma', 'neumonia' ,\n",
        "'dependenciaSustancias' , 'depresion' , 'fibrosis' , 'hematocrito' , 'neutrofilos', 'sodio' , 'glucosa' , 'ureaSangre' , \n",
        "'creatinina' , 'bmi' , 'pulso' , 'respiracion' , 'diagnosticoSecundario'], axis=1)"
      ]
    },
    {
      "cell_type": "markdown",
      "id": "e73e2943",
      "metadata": {
        "id": "e73e2943"
      },
      "source": [
        "## **ANÁLISIS DEL CONJUNTO DE DATOS**\n",
        "\n"
      ]
    },
    {
      "cell_type": "markdown",
      "id": "f8daf50f",
      "metadata": {
        "id": "f8daf50f"
      },
      "source": [
        "#### **PRINCIPALES ESTADÍSTICAS DEL CONJUNTO DE DATOS**"
      ]
    },
    {
      "cell_type": "code",
      "execution_count": null,
      "id": "07b9b39d",
      "metadata": {
        "colab": {
          "base_uri": "https://localhost:8080/",
          "height": 364
        },
        "id": "07b9b39d",
        "outputId": "d93b0dec-9997-4c86-d4ba-5c990fc49972"
      },
      "outputs": [
        {
          "output_type": "execute_result",
          "data": {
            "text/plain": [
              "             genero         renal   faltaHierro  desordenPsicologico  \\\n",
              "count  95013.000000  95013.000000  95013.000000         95013.000000   \n",
              "mean       0.576237      0.036290      0.095092             0.239062   \n",
              "std        0.494156      0.187011      0.293344             0.426513   \n",
              "min        0.000000      0.000000      0.000000             0.000000   \n",
              "25%        0.000000      0.000000      0.000000             0.000000   \n",
              "50%        1.000000      0.000000      0.000000             0.000000   \n",
              "75%        1.000000      0.000000      0.000000             0.000000   \n",
              "max        1.000000      1.000000      1.000000             1.000000   \n",
              "\n",
              "       otrosDesordenesPsiquicos  malnutricion  desordenSangre  \\\n",
              "count              95013.000000  95013.000000    95013.000000   \n",
              "mean                   0.049330      0.049362        0.080168   \n",
              "std                    0.216557      0.216623        0.271555   \n",
              "min                    0.000000      0.000000        0.000000   \n",
              "25%                    0.000000      0.000000        0.000000   \n",
              "50%                    0.000000      0.000000        0.000000   \n",
              "75%                    0.000000      0.000000        0.000000   \n",
              "max                    1.000000      1.000000        1.000000   \n",
              "\n",
              "       duracionEstancia  \n",
              "count       95013.00000  \n",
              "mean            3.77601  \n",
              "std             2.18028  \n",
              "min             1.00000  \n",
              "25%             2.00000  \n",
              "50%             4.00000  \n",
              "75%             5.00000  \n",
              "max            17.00000  "
            ],
            "text/html": [
              "\n",
              "  <div id=\"df-741d5ce8-5d91-419c-b358-d50e14df486f\">\n",
              "    <div class=\"colab-df-container\">\n",
              "      <div>\n",
              "<style scoped>\n",
              "    .dataframe tbody tr th:only-of-type {\n",
              "        vertical-align: middle;\n",
              "    }\n",
              "\n",
              "    .dataframe tbody tr th {\n",
              "        vertical-align: top;\n",
              "    }\n",
              "\n",
              "    .dataframe thead th {\n",
              "        text-align: right;\n",
              "    }\n",
              "</style>\n",
              "<table border=\"1\" class=\"dataframe\">\n",
              "  <thead>\n",
              "    <tr style=\"text-align: right;\">\n",
              "      <th></th>\n",
              "      <th>genero</th>\n",
              "      <th>renal</th>\n",
              "      <th>faltaHierro</th>\n",
              "      <th>desordenPsicologico</th>\n",
              "      <th>otrosDesordenesPsiquicos</th>\n",
              "      <th>malnutricion</th>\n",
              "      <th>desordenSangre</th>\n",
              "      <th>duracionEstancia</th>\n",
              "    </tr>\n",
              "  </thead>\n",
              "  <tbody>\n",
              "    <tr>\n",
              "      <th>count</th>\n",
              "      <td>95013.000000</td>\n",
              "      <td>95013.000000</td>\n",
              "      <td>95013.000000</td>\n",
              "      <td>95013.000000</td>\n",
              "      <td>95013.000000</td>\n",
              "      <td>95013.000000</td>\n",
              "      <td>95013.000000</td>\n",
              "      <td>95013.00000</td>\n",
              "    </tr>\n",
              "    <tr>\n",
              "      <th>mean</th>\n",
              "      <td>0.576237</td>\n",
              "      <td>0.036290</td>\n",
              "      <td>0.095092</td>\n",
              "      <td>0.239062</td>\n",
              "      <td>0.049330</td>\n",
              "      <td>0.049362</td>\n",
              "      <td>0.080168</td>\n",
              "      <td>3.77601</td>\n",
              "    </tr>\n",
              "    <tr>\n",
              "      <th>std</th>\n",
              "      <td>0.494156</td>\n",
              "      <td>0.187011</td>\n",
              "      <td>0.293344</td>\n",
              "      <td>0.426513</td>\n",
              "      <td>0.216557</td>\n",
              "      <td>0.216623</td>\n",
              "      <td>0.271555</td>\n",
              "      <td>2.18028</td>\n",
              "    </tr>\n",
              "    <tr>\n",
              "      <th>min</th>\n",
              "      <td>0.000000</td>\n",
              "      <td>0.000000</td>\n",
              "      <td>0.000000</td>\n",
              "      <td>0.000000</td>\n",
              "      <td>0.000000</td>\n",
              "      <td>0.000000</td>\n",
              "      <td>0.000000</td>\n",
              "      <td>1.00000</td>\n",
              "    </tr>\n",
              "    <tr>\n",
              "      <th>25%</th>\n",
              "      <td>0.000000</td>\n",
              "      <td>0.000000</td>\n",
              "      <td>0.000000</td>\n",
              "      <td>0.000000</td>\n",
              "      <td>0.000000</td>\n",
              "      <td>0.000000</td>\n",
              "      <td>0.000000</td>\n",
              "      <td>2.00000</td>\n",
              "    </tr>\n",
              "    <tr>\n",
              "      <th>50%</th>\n",
              "      <td>1.000000</td>\n",
              "      <td>0.000000</td>\n",
              "      <td>0.000000</td>\n",
              "      <td>0.000000</td>\n",
              "      <td>0.000000</td>\n",
              "      <td>0.000000</td>\n",
              "      <td>0.000000</td>\n",
              "      <td>4.00000</td>\n",
              "    </tr>\n",
              "    <tr>\n",
              "      <th>75%</th>\n",
              "      <td>1.000000</td>\n",
              "      <td>0.000000</td>\n",
              "      <td>0.000000</td>\n",
              "      <td>0.000000</td>\n",
              "      <td>0.000000</td>\n",
              "      <td>0.000000</td>\n",
              "      <td>0.000000</td>\n",
              "      <td>5.00000</td>\n",
              "    </tr>\n",
              "    <tr>\n",
              "      <th>max</th>\n",
              "      <td>1.000000</td>\n",
              "      <td>1.000000</td>\n",
              "      <td>1.000000</td>\n",
              "      <td>1.000000</td>\n",
              "      <td>1.000000</td>\n",
              "      <td>1.000000</td>\n",
              "      <td>1.000000</td>\n",
              "      <td>17.00000</td>\n",
              "    </tr>\n",
              "  </tbody>\n",
              "</table>\n",
              "</div>\n",
              "      <button class=\"colab-df-convert\" onclick=\"convertToInteractive('df-741d5ce8-5d91-419c-b358-d50e14df486f')\"\n",
              "              title=\"Convert this dataframe to an interactive table.\"\n",
              "              style=\"display:none;\">\n",
              "        \n",
              "  <svg xmlns=\"http://www.w3.org/2000/svg\" height=\"24px\"viewBox=\"0 0 24 24\"\n",
              "       width=\"24px\">\n",
              "    <path d=\"M0 0h24v24H0V0z\" fill=\"none\"/>\n",
              "    <path d=\"M18.56 5.44l.94 2.06.94-2.06 2.06-.94-2.06-.94-.94-2.06-.94 2.06-2.06.94zm-11 1L8.5 8.5l.94-2.06 2.06-.94-2.06-.94L8.5 2.5l-.94 2.06-2.06.94zm10 10l.94 2.06.94-2.06 2.06-.94-2.06-.94-.94-2.06-.94 2.06-2.06.94z\"/><path d=\"M17.41 7.96l-1.37-1.37c-.4-.4-.92-.59-1.43-.59-.52 0-1.04.2-1.43.59L10.3 9.45l-7.72 7.72c-.78.78-.78 2.05 0 2.83L4 21.41c.39.39.9.59 1.41.59.51 0 1.02-.2 1.41-.59l7.78-7.78 2.81-2.81c.8-.78.8-2.07 0-2.86zM5.41 20L4 18.59l7.72-7.72 1.47 1.35L5.41 20z\"/>\n",
              "  </svg>\n",
              "      </button>\n",
              "      \n",
              "  <style>\n",
              "    .colab-df-container {\n",
              "      display:flex;\n",
              "      flex-wrap:wrap;\n",
              "      gap: 12px;\n",
              "    }\n",
              "\n",
              "    .colab-df-convert {\n",
              "      background-color: #E8F0FE;\n",
              "      border: none;\n",
              "      border-radius: 50%;\n",
              "      cursor: pointer;\n",
              "      display: none;\n",
              "      fill: #1967D2;\n",
              "      height: 32px;\n",
              "      padding: 0 0 0 0;\n",
              "      width: 32px;\n",
              "    }\n",
              "\n",
              "    .colab-df-convert:hover {\n",
              "      background-color: #E2EBFA;\n",
              "      box-shadow: 0px 1px 2px rgba(60, 64, 67, 0.3), 0px 1px 3px 1px rgba(60, 64, 67, 0.15);\n",
              "      fill: #174EA6;\n",
              "    }\n",
              "\n",
              "    [theme=dark] .colab-df-convert {\n",
              "      background-color: #3B4455;\n",
              "      fill: #D2E3FC;\n",
              "    }\n",
              "\n",
              "    [theme=dark] .colab-df-convert:hover {\n",
              "      background-color: #434B5C;\n",
              "      box-shadow: 0px 1px 3px 1px rgba(0, 0, 0, 0.15);\n",
              "      filter: drop-shadow(0px 1px 2px rgba(0, 0, 0, 0.3));\n",
              "      fill: #FFFFFF;\n",
              "    }\n",
              "  </style>\n",
              "\n",
              "      <script>\n",
              "        const buttonEl =\n",
              "          document.querySelector('#df-741d5ce8-5d91-419c-b358-d50e14df486f button.colab-df-convert');\n",
              "        buttonEl.style.display =\n",
              "          google.colab.kernel.accessAllowed ? 'block' : 'none';\n",
              "\n",
              "        async function convertToInteractive(key) {\n",
              "          const element = document.querySelector('#df-741d5ce8-5d91-419c-b358-d50e14df486f');\n",
              "          const dataTable =\n",
              "            await google.colab.kernel.invokeFunction('convertToInteractive',\n",
              "                                                     [key], {});\n",
              "          if (!dataTable) return;\n",
              "\n",
              "          const docLinkHtml = 'Like what you see? Visit the ' +\n",
              "            '<a target=\"_blank\" href=https://colab.research.google.com/notebooks/data_table.ipynb>data table notebook</a>'\n",
              "            + ' to learn more about interactive tables.';\n",
              "          element.innerHTML = '';\n",
              "          dataTable['output_type'] = 'display_data';\n",
              "          await google.colab.output.renderOutput(dataTable, element);\n",
              "          const docLink = document.createElement('div');\n",
              "          docLink.innerHTML = docLinkHtml;\n",
              "          element.appendChild(docLink);\n",
              "        }\n",
              "      </script>\n",
              "    </div>\n",
              "  </div>\n",
              "  "
            ]
          },
          "metadata": {},
          "execution_count": 7
        }
      ],
      "source": [
        "Clinica.describe()"
      ]
    },
    {
      "cell_type": "markdown",
      "source": [
        "# **MODELO DE MACHINE LEARNING**"
      ],
      "metadata": {
        "id": "YSiDPcJ4ar5H"
      },
      "id": "YSiDPcJ4ar5H"
    },
    {
      "cell_type": "markdown",
      "source": [
        "### **ÁRBOLES DE REGRESIÓN**"
      ],
      "metadata": {
        "id": "TK5t2ZnpaF8D"
      },
      "id": "TK5t2ZnpaF8D"
    },
    {
      "cell_type": "code",
      "source": [
        "X=Clinica.iloc[:, 0:7]\n",
        "#X=X.reshape(1,-1)\n",
        "y=Clinica.iloc[:, 7]\n",
        "#y=y.reshape(1,-1)"
      ],
      "metadata": {
        "id": "SA6iRh5vTRbb"
      },
      "id": "SA6iRh5vTRbb",
      "execution_count": null,
      "outputs": []
    },
    {
      "cell_type": "code",
      "source": [
        "# DIVISIÓN ENTRE DATOS DE ENTRENAMIENTO Y TEST:\n",
        "X_train, X_test, y_train, y_test = train_test_split(\n",
        "                                        X,\n",
        "                                        y,\n",
        "                                        test_size=0.30,\n",
        "                                        random_state = 0\n",
        "                                    )\n",
        "\n",
        "print(X_train.shape)\n",
        "print(X_test.shape)\n",
        "print(y_train.shape)\n",
        "print(y_test.shape)"
      ],
      "metadata": {
        "colab": {
          "base_uri": "https://localhost:8080/"
        },
        "id": "1hPUb4ZRTjdj",
        "outputId": "6996e428-282d-45f4-a22b-f72400c8f698"
      },
      "id": "1hPUb4ZRTjdj",
      "execution_count": null,
      "outputs": [
        {
          "output_type": "stream",
          "name": "stdout",
          "text": [
            "(66509, 7)\n",
            "(28504, 7)\n",
            "(66509,)\n",
            "(28504,)\n"
          ]
        }
      ]
    },
    {
      "cell_type": "code",
      "source": [
        "# CREACIÓN DEL MODELO\n",
        "# ---------------------------------------------------------------------------------------------------------\n",
        "modelo = DecisionTreeRegressor(max_depth=3)"
      ],
      "metadata": {
        "id": "xDGAn-HOUpkP"
      },
      "id": "xDGAn-HOUpkP",
      "execution_count": null,
      "outputs": []
    },
    {
      "cell_type": "code",
      "source": [
        "# ENTRENAMIENTO DEL MODELO\n",
        "modelo = modelo.fit(X_train, y_train)"
      ],
      "metadata": {
        "id": "8jawDyu9Uq94"
      },
      "id": "8jawDyu9Uq94",
      "execution_count": null,
      "outputs": []
    },
    {
      "cell_type": "code",
      "source": [
        "# VISUALIZACIÓN DEL ENTRENAMIENTO DEL MODELO\n",
        "fig = plt.figure(figsize=(20, 18))\n",
        "\n",
        "tree.plot_tree(modelo, feature_names= list(X.columns.values),\n",
        "                        class_names=list(y.values), filled=True)\n",
        "\n",
        "plt.show()"
      ],
      "metadata": {
        "colab": {
          "base_uri": "https://localhost:8080/",
          "height": 929
        },
        "id": "mGpGaHeZUtph",
        "outputId": "dadfa3b9-02f8-4ecd-eac7-e92bb66461ec"
      },
      "id": "mGpGaHeZUtph",
      "execution_count": null,
      "outputs": [
        {
          "output_type": "display_data",
          "data": {
            "text/plain": [
              "<Figure size 2000x1800 with 1 Axes>"
            ],
            "image/png": "[encoded data removed]"
          },
          "metadata": {}
        }
      ]
    },
    {
      "cell_type": "code",
      "source": [
        "# PREDICCIONES\n",
        "y_train_pred = modelo.predict(X_train)\n",
        "y_train_pred"
      ],
      "metadata": {
        "colab": {
          "base_uri": "https://localhost:8080/"
        },
        "id": "R0DHAqcvU8yx",
        "outputId": "3ce02d23-559d-4ad6-a0f9-6d6b4232f89d"
      },
      "id": "R0DHAqcvU8yx",
      "execution_count": null,
      "outputs": [
        {
          "output_type": "execute_result",
          "data": {
            "text/plain": [
              "array([3.12433146, 3.12433146, 3.12433146, ..., 3.12433146, 3.12433146,\n",
              "       3.12433146])"
            ]
          },
          "metadata": {},
          "execution_count": 20
        }
      ]
    },
    {
      "cell_type": "code",
      "source": [
        "y_test_pred = modelo.predict(X_test)\n",
        "y_test_pred"
      ],
      "metadata": {
        "colab": {
          "base_uri": "https://localhost:8080/"
        },
        "id": "WGgybgqjVGVI",
        "outputId": "a059be2a-06d8-42d1-d5d1-9aa5bfa667d4"
      },
      "id": "WGgybgqjVGVI",
      "execution_count": null,
      "outputs": [
        {
          "output_type": "execute_result",
          "data": {
            "text/plain": [
              "array([4.83601141, 3.12433146, 3.12433146, ..., 3.12433146, 4.83601141,\n",
              "       3.12433146])"
            ]
          },
          "metadata": {},
          "execution_count": 21
        }
      ]
    },
    {
      "cell_type": "code",
      "source": [
        "# Comparamos con las etiquetas reales\n",
        "print('Error en datos de train:', mean_squared_error(y_train_pred,y_train))\n",
        "print('Error en datos de test:', mean_squared_error(y_test_pred,y_test))\n",
        "print('Score en datos de train:', modelo.score(X_train, y_train)*100)\n",
        "print('Score en datos de test:', modelo.score(X_test, y_test)*100)"
      ],
      "metadata": {
        "colab": {
          "base_uri": "https://localhost:8080/"
        },
        "id": "ffF920xZVN13",
        "outputId": "3a4b483b-8354-4a04-d076-0a072c49e910"
      },
      "id": "ffF920xZVN13",
      "execution_count": null,
      "outputs": [
        {
          "output_type": "stream",
          "name": "stdout",
          "text": [
            "Error en datos de train: 3.861759491160061\n",
            "Error en datos de test: 3.908130623399583\n",
            "Score en datos de train: 18.494414749328058\n",
            "Score en datos de test: 18.407116290061698\n"
          ]
        }
      ]
    },
    {
      "cell_type": "markdown",
      "source": [
        "### **RANDOM FOREST**"
      ],
      "metadata": {
        "id": "kJHdMxh2V-Cc"
      },
      "id": "kJHdMxh2V-Cc"
    },
    {
      "cell_type": "code",
      "source": [
        "X_train, X_test, y_train, y_test = train_test_split(\n",
        "                                        Clinica.drop(columns = \"duracionEstancia\"),\n",
        "                                        Clinica['duracionEstancia'],\n",
        "                                        random_state = 123\n",
        "                                    )\n",
        "\n",
        "# Creación del modelo\n",
        "# ==============================================================================\n",
        "modelo = RandomForestRegressor(\n",
        "            n_estimators = 200,\n",
        "            criterion    = \"squared_error\",\n",
        "            max_depth    = 6,\n",
        "            max_features = 'sqrt',\n",
        "            oob_score    = True,\n",
        "            n_jobs       = -1,\n",
        "            random_state = 123\n",
        "         )"
      ],
      "metadata": {
        "id": "BwrKlv4cWCj4"
      },
      "id": "BwrKlv4cWCj4",
      "execution_count": 24,
      "outputs": []
    },
    {
      "cell_type": "code",
      "source": [
        "# Entrenamiento del modelo\n",
        "# ==============================================================================\n",
        "modelo.fit(X_train, y_train)"
      ],
      "metadata": {
        "colab": {
          "base_uri": "https://localhost:8080/",
          "height": 92
        },
        "id": "OrR1xFFEZvSG",
        "outputId": "6ece09d3-61e6-4b4e-b63b-478433c799e3"
      },
      "id": "OrR1xFFEZvSG",
      "execution_count": 25,
      "outputs": [
        {
          "output_type": "execute_result",
          "data": {
            "text/plain": [
              "RandomForestRegressor(max_depth=6, max_features='sqrt', n_estimators=200,\n",
              "                      n_jobs=-1, oob_score=True, random_state=123)"
            ],
            "text/html": [
              "<style>#sk-container-id-1 {color: black;background-color: white;}#sk-container-id-1 pre{padding: 0;}#sk-container-id-1 div.sk-toggleable {background-color: white;}#sk-container-id-1 label.sk-toggleable__label {cursor: pointer;display: block;width: 100%;margin-bottom: 0;padding: 0.3em;box-sizing: border-box;text-align: center;}#sk-container-id-1 label.sk-toggleable__label-arrow:before {content: \"▸\";float: left;margin-right: 0.25em;color: #696969;}#sk-container-id-1 label.sk-toggleable__label-arrow:hover:before {color: black;}#sk-container-id-1 div.sk-estimator:hover label.sk-toggleable__label-arrow:before {color: black;}#sk-container-id-1 div.sk-toggleable__content {max-height: 0;max-width: 0;overflow: hidden;text-align: left;background-color: #f0f8ff;}#sk-container-id-1 div.sk-toggleable__content pre {margin: 0.2em;color: black;border-radius: 0.25em;background-color: #f0f8ff;}#sk-container-id-1 input.sk-toggleable__control:checked~div.sk-toggleable__content {max-height: 200px;max-width: 100%;overflow: auto;}#sk-container-id-1 input.sk-toggleable__control:checked~label.sk-toggleable__label-arrow:before {content: \"▾\";}#sk-container-id-1 div.sk-estimator input.sk-toggleable__control:checked~label.sk-toggleable__label {background-color: #d4ebff;}#sk-container-id-1 div.sk-label input.sk-toggleable__control:checked~label.sk-toggleable__label {background-color: #d4ebff;}#sk-container-id-1 input.sk-hidden--visually {border: 0;clip: rect(1px 1px 1px 1px);clip: rect(1px, 1px, 1px, 1px);height: 1px;margin: -1px;overflow: hidden;padding: 0;position: absolute;width: 1px;}#sk-container-id-1 div.sk-estimator {font-family: monospace;background-color: #f0f8ff;border: 1px dotted black;border-radius: 0.25em;box-sizing: border-box;margin-bottom: 0.5em;}#sk-container-id-1 div.sk-estimator:hover {background-color: #d4ebff;}#sk-container-id-1 div.sk-parallel-item::after {content: \"\";width: 100%;border-bottom: 1px solid gray;flex-grow: 1;}#sk-container-id-1 div.sk-label:hover label.sk-toggleable__label {background-color: #d4ebff;}#sk-container-id-1 div.sk-serial::before {content: \"\";position: absolute;border-left: 1px solid gray;box-sizing: border-box;top: 0;bottom: 0;left: 50%;z-index: 0;}#sk-container-id-1 div.sk-serial {display: flex;flex-direction: column;align-items: center;background-color: white;padding-right: 0.2em;padding-left: 0.2em;position: relative;}#sk-container-id-1 div.sk-item {position: relative;z-index: 1;}#sk-container-id-1 div.sk-parallel {display: flex;align-items: stretch;justify-content: center;background-color: white;position: relative;}#sk-container-id-1 div.sk-item::before, #sk-container-id-1 div.sk-parallel-item::before {content: \"\";position: absolute;border-left: 1px solid gray;box-sizing: border-box;top: 0;bottom: 0;left: 50%;z-index: -1;}#sk-container-id-1 div.sk-parallel-item {display: flex;flex-direction: column;z-index: 1;position: relative;background-color: white;}#sk-container-id-1 div.sk-parallel-item:first-child::after {align-self: flex-end;width: 50%;}#sk-container-id-1 div.sk-parallel-item:last-child::after {align-self: flex-start;width: 50%;}#sk-container-id-1 div.sk-parallel-item:only-child::after {width: 0;}#sk-container-id-1 div.sk-dashed-wrapped {border: 1px dashed gray;margin: 0 0.4em 0.5em 0.4em;box-sizing: border-box;padding-bottom: 0.4em;background-color: white;}#sk-container-id-1 div.sk-label label {font-family: monospace;font-weight: bold;display: inline-block;line-height: 1.2em;}#sk-container-id-1 div.sk-label-container {text-align: center;}#sk-container-id-1 div.sk-container {/* jupyter's `normalize.less` sets `[hidden] { display: none; }` but bootstrap.min.css set `[hidden] { display: none !important; }` so we also need the `!important` here to be able to override the default hidden behavior on the sphinx rendered scikit-learn.org. See: https://github.com/scikit-learn/scikit-learn/issues/21755 */display: inline-block !important;position: relative;}#sk-container-id-1 div.sk-text-repr-fallback {display: none;}</style><div id=\"sk-container-id-1\" class=\"sk-top-container\"><div class=\"sk-text-repr-fallback\"><pre>RandomForestRegressor(max_depth=6, max_features=&#x27;sqrt&#x27;, n_estimators=200,\n",
              "                      n_jobs=-1, oob_score=True, random_state=123)</pre><b>In a Jupyter environment, please rerun this cell to show the HTML representation or trust the notebook. <br />On GitHub, the HTML representation is unable to render, please try loading this page with nbviewer.org.</b></div><div class=\"sk-container\" hidden><div class=\"sk-item\"><div class=\"sk-estimator sk-toggleable\"><input class=\"sk-toggleable__control sk-hidden--visually\" id=\"sk-estimator-id-1\" type=\"checkbox\" checked><label for=\"sk-estimator-id-1\" class=\"sk-toggleable__label sk-toggleable__label-arrow\">RandomForestRegressor</label><div class=\"sk-toggleable__content\"><pre>RandomForestRegressor(max_depth=6, max_features=&#x27;sqrt&#x27;, n_estimators=200,\n",
              "                      n_jobs=-1, oob_score=True, random_state=123)</pre></div></div></div></div></div>"
            ]
          },
          "metadata": {},
          "execution_count": 25
        }
      ]
    },
    {
      "cell_type": "code",
      "source": [
        "# Predicciones\n",
        "# ==============================================================================\n",
        "predic_y_train = modelo.predict(X_train)\n",
        "predic_y_test  = modelo.predict(X_test)"
      ],
      "metadata": {
        "id": "jx6XlEeNZz5y"
      },
      "id": "jx6XlEeNZz5y",
      "execution_count": 26,
      "outputs": []
    },
    {
      "cell_type": "code",
      "source": [
        "# Error de test del modelo inicial\n",
        "# ==============================================================================\n",
        "\n",
        "print('Error en datos de train:', mean_squared_error(predic_y_train, y_train))\n",
        "print('Error en datos de test:', mean_squared_error(predic_y_test,y_test))\n",
        "print('Score en datos de train:', modelo.score(X_train, y_train)*100)\n",
        "print('Score en datos de test:', modelo.score(X_test, y_test)*100)"
      ],
      "metadata": {
        "colab": {
          "base_uri": "https://localhost:8080/"
        },
        "id": "fwuDGVV7Z5lZ",
        "outputId": "941ee8ef-1d80-425e-aae9-75c355e01cef"
      },
      "id": "fwuDGVV7Z5lZ",
      "execution_count": 27,
      "outputs": [
        {
          "output_type": "stream",
          "name": "stdout",
          "text": [
            "Error en datos de train: 3.745379992006508\n",
            "Error en datos de test: 3.713101590792889\n",
            "Score en datos de train: 21.37166118785332\n",
            "Score en datos de test: 21.395984947817116\n"
          ]
        }
      ]
    }
  ],
  "metadata": {
    "kernelspec": {
      "display_name": "Python 3 (ipykernel)",
      "language": "python",
      "name": "python3"
    },
    "language_info": {
      "codemirror_mode": {
        "name": "ipython",
        "version": 3
      },
      "file_extension": ".py",
      "mimetype": "text/x-python",
      "name": "python",
      "nbconvert_exporter": "python",
      "pygments_lexer": "ipython3",
      "version": "3.9.12"
    },
    "colab": {
      "provenance": []
    }
  },
  "nbformat": 4,
  "nbformat_minor": 5
}